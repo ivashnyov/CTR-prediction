{
 "cells": [
  {
   "cell_type": "markdown",
   "metadata": {},
   "source": [
    "# Предсказание CTR 2018"
   ]
  },
  {
   "cell_type": "markdown",
   "metadata": {},
   "source": [
    "Описание файлов\n",
    "\n",
    "Вам представлены данные поисковых запросов, по которым была показана контекстная реклама одного рекламодателя.\n",
    "\n",
    "    train.csv - the training set\n",
    "    test.csv - the test set.\n",
    "\n",
    "Поля данных\n",
    "\n",
    "    RowId - идшник для сабмишена\n",
    "    AveragePosition - средняя позиция объявления на странице выдачи\n",
    "    CampaignId - рекламная кампания, обычно содежит объявления одной тематики\n",
    "    AdGroupId  - содержит группу объявлений, которые показываются при совпадении запроса пользователя (Query) с ключевым словом рекламодателя (описывается KeywordId, сами ключевые слова не включены в датасет)\n"
   ]
  },
  {
   "cell_type": "code",
   "execution_count": 29,
   "metadata": {},
   "outputs": [],
   "source": [
    "import seaborn as sns\n",
    "import matplotlib.pyplot as plt"
   ]
  },
  {
   "cell_type": "code",
   "execution_count": 23,
   "metadata": {},
   "outputs": [],
   "source": [
    "import pandas as pd\n",
    "train = pd.read_csv('train.csv')\n",
    "test = pd.read_csv('test_upd.csv')"
   ]
  },
  {
   "cell_type": "markdown",
   "metadata": {},
   "source": [
    "Добавим целевую переменную"
   ]
  },
  {
   "cell_type": "code",
   "execution_count": 35,
   "metadata": {},
   "outputs": [],
   "source": [
    "train['RPC'] = train['Clicks'] / train['Impressions']"
   ]
  },
  {
   "cell_type": "markdown",
   "metadata": {},
   "source": [
    "Посмотрим на данные"
   ]
  },
  {
   "cell_type": "code",
   "execution_count": 26,
   "metadata": {},
   "outputs": [
    {
     "data": {
      "text/html": [
       "<div>\n",
       "<style scoped>\n",
       "    .dataframe tbody tr th:only-of-type {\n",
       "        vertical-align: middle;\n",
       "    }\n",
       "\n",
       "    .dataframe tbody tr th {\n",
       "        vertical-align: top;\n",
       "    }\n",
       "\n",
       "    .dataframe thead th {\n",
       "        text-align: right;\n",
       "    }\n",
       "</style>\n",
       "<table border=\"1\" class=\"dataframe\">\n",
       "  <thead>\n",
       "    <tr style=\"text-align: right;\">\n",
       "      <th></th>\n",
       "      <th>CampaignId</th>\n",
       "      <th>AdGroupId</th>\n",
       "      <th>KeywordId</th>\n",
       "      <th>Query</th>\n",
       "      <th>QueryMatchTypeWithVariant</th>\n",
       "      <th>Device</th>\n",
       "      <th>Date</th>\n",
       "      <th>AveragePosition</th>\n",
       "      <th>Clicks</th>\n",
       "      <th>Impressions</th>\n",
       "      <th>RPC</th>\n",
       "    </tr>\n",
       "  </thead>\n",
       "  <tbody>\n",
       "    <tr>\n",
       "      <th>0</th>\n",
       "      <td>150950690</td>\n",
       "      <td>7953835370</td>\n",
       "      <td>116881275</td>\n",
       "      <td>may loan</td>\n",
       "      <td>NEAR_EXACT</td>\n",
       "      <td>HIGH_END_MOBILE</td>\n",
       "      <td>2016-08-26</td>\n",
       "      <td>1.0</td>\n",
       "      <td>1</td>\n",
       "      <td>1</td>\n",
       "      <td>1.0</td>\n",
       "    </tr>\n",
       "    <tr>\n",
       "      <th>1</th>\n",
       "      <td>150950690</td>\n",
       "      <td>7953835370</td>\n",
       "      <td>116881275</td>\n",
       "      <td>my lloan</td>\n",
       "      <td>NEAR_EXACT</td>\n",
       "      <td>DESKTOP</td>\n",
       "      <td>2016-09-16</td>\n",
       "      <td>1.0</td>\n",
       "      <td>1</td>\n",
       "      <td>1</td>\n",
       "      <td>1.0</td>\n",
       "    </tr>\n",
       "    <tr>\n",
       "      <th>2</th>\n",
       "      <td>150950690</td>\n",
       "      <td>7953835370</td>\n",
       "      <td>116881275</td>\n",
       "      <td>my loan</td>\n",
       "      <td>EXACT</td>\n",
       "      <td>DESKTOP</td>\n",
       "      <td>2016-04-05</td>\n",
       "      <td>2.0</td>\n",
       "      <td>1</td>\n",
       "      <td>1</td>\n",
       "      <td>1.0</td>\n",
       "    </tr>\n",
       "    <tr>\n",
       "      <th>3</th>\n",
       "      <td>150950690</td>\n",
       "      <td>7953835370</td>\n",
       "      <td>116881275</td>\n",
       "      <td>my loan</td>\n",
       "      <td>EXACT</td>\n",
       "      <td>DESKTOP</td>\n",
       "      <td>2016-04-12</td>\n",
       "      <td>2.0</td>\n",
       "      <td>1</td>\n",
       "      <td>1</td>\n",
       "      <td>1.0</td>\n",
       "    </tr>\n",
       "    <tr>\n",
       "      <th>4</th>\n",
       "      <td>150950690</td>\n",
       "      <td>7953835370</td>\n",
       "      <td>116881275</td>\n",
       "      <td>my loan</td>\n",
       "      <td>EXACT</td>\n",
       "      <td>DESKTOP</td>\n",
       "      <td>2016-04-18</td>\n",
       "      <td>1.0</td>\n",
       "      <td>0</td>\n",
       "      <td>1</td>\n",
       "      <td>0.0</td>\n",
       "    </tr>\n",
       "  </tbody>\n",
       "</table>\n",
       "</div>"
      ],
      "text/plain": [
       "   CampaignId   AdGroupId  KeywordId     Query QueryMatchTypeWithVariant  \\\n",
       "0   150950690  7953835370  116881275  may loan                NEAR_EXACT   \n",
       "1   150950690  7953835370  116881275  my lloan                NEAR_EXACT   \n",
       "2   150950690  7953835370  116881275   my loan                     EXACT   \n",
       "3   150950690  7953835370  116881275   my loan                     EXACT   \n",
       "4   150950690  7953835370  116881275   my loan                     EXACT   \n",
       "\n",
       "            Device        Date  AveragePosition  Clicks  Impressions  RPC  \n",
       "0  HIGH_END_MOBILE  2016-08-26              1.0       1            1  1.0  \n",
       "1          DESKTOP  2016-09-16              1.0       1            1  1.0  \n",
       "2          DESKTOP  2016-04-05              2.0       1            1  1.0  \n",
       "3          DESKTOP  2016-04-12              2.0       1            1  1.0  \n",
       "4          DESKTOP  2016-04-18              1.0       0            1  0.0  "
      ]
     },
     "execution_count": 26,
     "metadata": {},
     "output_type": "execute_result"
    }
   ],
   "source": [
    "train.head()"
   ]
  },
  {
   "cell_type": "code",
   "execution_count": 27,
   "metadata": {},
   "outputs": [
    {
     "name": "stdout",
     "output_type": "stream",
     "text": [
      "<class 'pandas.core.frame.DataFrame'>\n",
      "RangeIndex: 56222 entries, 0 to 56221\n",
      "Data columns (total 11 columns):\n",
      "CampaignId                   56222 non-null int64\n",
      "AdGroupId                    56222 non-null int64\n",
      "KeywordId                    56222 non-null int64\n",
      "Query                        56222 non-null object\n",
      "QueryMatchTypeWithVariant    56222 non-null object\n",
      "Device                       56222 non-null object\n",
      "Date                         56222 non-null object\n",
      "AveragePosition              56222 non-null float64\n",
      "Clicks                       56222 non-null int64\n",
      "Impressions                  56222 non-null int64\n",
      "RPC                          56222 non-null float64\n",
      "dtypes: float64(2), int64(5), object(4)\n",
      "memory usage: 4.7+ MB\n"
     ]
    }
   ],
   "source": [
    "train.info()"
   ]
  },
  {
   "cell_type": "code",
   "execution_count": 19,
   "metadata": {},
   "outputs": [
    {
     "data": {
      "text/html": [
       "<div>\n",
       "<style scoped>\n",
       "    .dataframe tbody tr th:only-of-type {\n",
       "        vertical-align: middle;\n",
       "    }\n",
       "\n",
       "    .dataframe tbody tr th {\n",
       "        vertical-align: top;\n",
       "    }\n",
       "\n",
       "    .dataframe thead th {\n",
       "        text-align: right;\n",
       "    }\n",
       "</style>\n",
       "<table border=\"1\" class=\"dataframe\">\n",
       "  <thead>\n",
       "    <tr style=\"text-align: right;\">\n",
       "      <th></th>\n",
       "      <th>CampaignId</th>\n",
       "      <th>AdGroupId</th>\n",
       "      <th>KeywordId</th>\n",
       "      <th>Query</th>\n",
       "      <th>QueryMatchTypeWithVariant</th>\n",
       "      <th>Device</th>\n",
       "      <th>Date</th>\n",
       "      <th>AveragePosition</th>\n",
       "      <th>Id</th>\n",
       "    </tr>\n",
       "  </thead>\n",
       "  <tbody>\n",
       "    <tr>\n",
       "      <th>0</th>\n",
       "      <td>150950810</td>\n",
       "      <td>24573357890</td>\n",
       "      <td>570188752</td>\n",
       "      <td>wasa kredit</td>\n",
       "      <td>EXACT</td>\n",
       "      <td>HIGH_END_MOBILE</td>\n",
       "      <td>2017-01-13</td>\n",
       "      <td>1.7</td>\n",
       "      <td>0</td>\n",
       "    </tr>\n",
       "    <tr>\n",
       "      <th>1</th>\n",
       "      <td>150950810</td>\n",
       "      <td>24573357890</td>\n",
       "      <td>570188752</td>\n",
       "      <td>wasa kredit</td>\n",
       "      <td>EXACT</td>\n",
       "      <td>TABLET</td>\n",
       "      <td>2017-02-09</td>\n",
       "      <td>1.0</td>\n",
       "      <td>1</td>\n",
       "    </tr>\n",
       "    <tr>\n",
       "      <th>2</th>\n",
       "      <td>150950810</td>\n",
       "      <td>24573479450</td>\n",
       "      <td>24155728639</td>\n",
       "      <td>marginalen bank</td>\n",
       "      <td>EXACT</td>\n",
       "      <td>DESKTOP</td>\n",
       "      <td>2017-02-07</td>\n",
       "      <td>2.0</td>\n",
       "      <td>2</td>\n",
       "    </tr>\n",
       "    <tr>\n",
       "      <th>3</th>\n",
       "      <td>150950810</td>\n",
       "      <td>24573357890</td>\n",
       "      <td>570188752</td>\n",
       "      <td>wasa kredit</td>\n",
       "      <td>EXACT</td>\n",
       "      <td>HIGH_END_MOBILE</td>\n",
       "      <td>2017-01-12</td>\n",
       "      <td>1.9</td>\n",
       "      <td>3</td>\n",
       "    </tr>\n",
       "    <tr>\n",
       "      <th>4</th>\n",
       "      <td>150951290</td>\n",
       "      <td>7953845090</td>\n",
       "      <td>29883687951</td>\n",
       "      <td>länsförsäkringar billån</td>\n",
       "      <td>PHRASE</td>\n",
       "      <td>DESKTOP</td>\n",
       "      <td>2017-01-22</td>\n",
       "      <td>1.0</td>\n",
       "      <td>4</td>\n",
       "    </tr>\n",
       "  </tbody>\n",
       "</table>\n",
       "</div>"
      ],
      "text/plain": [
       "   CampaignId    AdGroupId    KeywordId                    Query  \\\n",
       "0   150950810  24573357890    570188752              wasa kredit   \n",
       "1   150950810  24573357890    570188752              wasa kredit   \n",
       "2   150950810  24573479450  24155728639          marginalen bank   \n",
       "3   150950810  24573357890    570188752              wasa kredit   \n",
       "4   150951290   7953845090  29883687951  länsförsäkringar billån   \n",
       "\n",
       "  QueryMatchTypeWithVariant           Device        Date  AveragePosition  Id  \n",
       "0                     EXACT  HIGH_END_MOBILE  2017-01-13              1.7   0  \n",
       "1                     EXACT           TABLET  2017-02-09              1.0   1  \n",
       "2                     EXACT          DESKTOP  2017-02-07              2.0   2  \n",
       "3                     EXACT  HIGH_END_MOBILE  2017-01-12              1.9   3  \n",
       "4                    PHRASE          DESKTOP  2017-01-22              1.0   4  "
      ]
     },
     "execution_count": 19,
     "metadata": {},
     "output_type": "execute_result"
    }
   ],
   "source": [
    "test.head()"
   ]
  },
  {
   "cell_type": "code",
   "execution_count": 21,
   "metadata": {},
   "outputs": [
    {
     "name": "stdout",
     "output_type": "stream",
     "text": [
      "<class 'pandas.core.frame.DataFrame'>\n",
      "RangeIndex: 87807 entries, 0 to 87806\n",
      "Data columns (total 9 columns):\n",
      "CampaignId                   87807 non-null int64\n",
      "AdGroupId                    87807 non-null int64\n",
      "KeywordId                    87807 non-null int64\n",
      "Query                        87807 non-null object\n",
      "QueryMatchTypeWithVariant    87807 non-null object\n",
      "Device                       87807 non-null object\n",
      "Date                         87807 non-null object\n",
      "AveragePosition              87807 non-null float64\n",
      "Id                           87807 non-null int64\n",
      "dtypes: float64(1), int64(4), object(4)\n",
      "memory usage: 6.0+ MB\n"
     ]
    }
   ],
   "source": [
    "test.info()"
   ]
  },
  {
   "cell_type": "markdown",
   "metadata": {},
   "source": [
    "Взглянем на то, сколько кампаний проводится, каково их количество и как они распределены в обучающей и тестовой выборке"
   ]
  },
  {
   "cell_type": "code",
   "execution_count": 33,
   "metadata": {},
   "outputs": [
    {
     "data": {
      "image/png": "[encoded data removed]",
      "text/plain": [
       "<Figure size 1008x288 with 1 Axes>"
      ]
     },
     "metadata": {
      "needs_background": "light"
     },
     "output_type": "display_data"
    },
    {
     "data": {
      "image/png": "[encoded data removed]",
      "text/plain": [
       "<Figure size 432x288 with 1 Axes>"
      ]
     },
     "metadata": {
      "needs_background": "light"
     },
     "output_type": "display_data"
    }
   ],
   "source": [
    "plt.figure(figsize=(14,4))\n",
    "sns.countplot(x=\"CampaignId\", data=train)\n",
    "plt.show()\n",
    "sns.countplot(x=\"CampaignId\", data=test)\n",
    "plt.show()"
   ]
  },
  {
   "cell_type": "markdown",
   "metadata": {},
   "source": [
    "Можно заметить, что в трейновой выборке 9 кампаний, в тестовой 3, причем эти три являются подмножеством кампаний из трейновой. Возможно, что оставшиеся 6 кампаний вообще не нужны, в дальнейшем это проверим"
   ]
  },
  {
   "cell_type": "code",
   "execution_count": 43,
   "metadata": {},
   "outputs": [
    {
     "data": {
      "text/plain": [
       "<matplotlib.axes._subplots.AxesSubplot at 0x7f33620036d8>"
      ]
     },
     "execution_count": 43,
     "metadata": {},
     "output_type": "execute_result"
    },
    {
     "data": {
      "image/png": "[encoded data removed]",
      "text/plain": [
       "<Figure size 432x288 with 1 Axes>"
      ]
     },
     "metadata": {
      "needs_background": "light"
     },
     "output_type": "display_data"
    }
   ],
   "source": [
    "sns.countplot(x=\"QueryMatchTypeWithVariant\", data=train)"
   ]
  },
  {
   "cell_type": "code",
   "execution_count": 10,
   "metadata": {},
   "outputs": [],
   "source": [
    "sub[['Id', 'ClickProbability']].to_csv('petya.csv', index=False)"
   ]
  },
  {
   "cell_type": "code",
   "execution_count": 11,
   "metadata": {},
   "outputs": [],
   "source": [
    "# Как посчитать логлосс на локальной валидации?"
   ]
  },
  {
   "cell_type": "code",
   "execution_count": 12,
   "metadata": {},
   "outputs": [],
   "source": [
    "sub.ClickProbability = mean_ctr\n",
    "sub[['Id', 'ClickProbability']].to_csv('mean.csv', index=False)\n",
    "\n",
    "sub.ClickProbability = 0\n",
    "sub[['Id', 'ClickProbability']].to_csv('zero.csv', index=False)"
   ]
  },
  {
   "cell_type": "code",
   "execution_count": null,
   "metadata": {},
   "outputs": [],
   "source": []
  }
 ],
 "metadata": {
  "kernelspec": {
   "display_name": "Python 3",
   "language": "python",
   "name": "python3"
  },
  "language_info": {
   "codemirror_mode": {
    "name": "ipython",
    "version": 3
   },
   "file_extension": ".py",
   "mimetype": "text/x-python",
   "name": "python",
   "nbconvert_exporter": "python",
   "pygments_lexer": "ipython3",
   "version": "3.5.2"
  }
 },
 "nbformat": 4,
 "nbformat_minor": 1
}
